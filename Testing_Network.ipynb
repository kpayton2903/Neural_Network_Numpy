{
 "cells": [
  {
   "cell_type": "markdown",
   "metadata": {},
   "source": [
    "To test our neural network created from just numpy, we will attempt to predict numbers from the MNIST dataset. Let's first import all our required libraries:"
   ]
  },
  {
   "cell_type": "code",
   "execution_count": 14,
   "metadata": {},
   "outputs": [],
   "source": [
    "import numpy as np\n",
    "import pandas as pd\n",
    "import matplotlib.pyplot as plt\n",
    "from keras.datasets import mnist\n",
    "from sklearn.preprocessing import OneHotEncoder\n",
    "from Neural_Network import Neural_Network"
   ]
  },
  {
   "cell_type": "code",
   "execution_count": 15,
   "metadata": {},
   "outputs": [],
   "source": [
    "def preprocess_data_x(x):\n",
    "    x = x.reshape(x.shape[0], 28 * 28)\n",
    "    x = x.astype(\"float32\") / 255\n",
    "    return x\n",
    "\n",
    "def preprocess_data_y(y):\n",
    "    enc = OneHotEncoder(sparse_output=False)\n",
    "    y = enc.fit_transform(y.reshape(-1, 1))\n",
    "    return y\n",
    "\n",
    "(x_train, y_train), (x_test, y_test) = mnist.load_data()\n",
    "\n",
    "x_train = preprocess_data_x(x_train)\n",
    "x_test = preprocess_data_x(x_test)\n",
    "y_train = preprocess_data_y(y_train)\n",
    "y_test = preprocess_data_y(y_test)"
   ]
  },
  {
   "cell_type": "code",
   "execution_count": 16,
   "metadata": {},
   "outputs": [
    {
     "name": "stdout",
     "output_type": "stream",
     "text": [
      "Epoch 0, Loss: 2.5453\n",
      "Accuracy: 0.1563\n",
      "Epoch 1, Loss: 2.1838\n",
      "Accuracy: 0.2525\n",
      "Epoch 2, Loss: 2.0263\n",
      "Accuracy: 0.3734\n",
      "Epoch 3, Loss: 1.8883\n",
      "Accuracy: 0.4760\n",
      "Epoch 4, Loss: 1.7541\n",
      "Accuracy: 0.5561\n",
      "Epoch 5, Loss: 1.6248\n",
      "Accuracy: 0.6125\n",
      "Epoch 6, Loss: 1.5032\n",
      "Accuracy: 0.6540\n",
      "Epoch 7, Loss: 1.3916\n",
      "Accuracy: 0.6846\n",
      "Epoch 8, Loss: 1.2916\n",
      "Accuracy: 0.7074\n",
      "Epoch 9, Loss: 1.2033\n",
      "Accuracy: 0.7254\n",
      "Epoch 10, Loss: 1.1261\n",
      "Accuracy: 0.7407\n",
      "Epoch 11, Loss: 1.0589\n",
      "Accuracy: 0.7536\n",
      "Epoch 12, Loss: 1.0004\n",
      "Accuracy: 0.7636\n",
      "Epoch 13, Loss: 0.9493\n",
      "Accuracy: 0.7724\n",
      "Epoch 14, Loss: 0.9045\n",
      "Accuracy: 0.7805\n",
      "Epoch 15, Loss: 0.8650\n",
      "Accuracy: 0.7879\n",
      "Epoch 16, Loss: 0.8300\n",
      "Accuracy: 0.7936\n",
      "Epoch 17, Loss: 0.7989\n",
      "Accuracy: 0.7986\n",
      "Epoch 18, Loss: 0.7709\n",
      "Accuracy: 0.8044\n",
      "Epoch 19, Loss: 0.7457\n",
      "Accuracy: 0.8091\n",
      "Epoch 20, Loss: 0.7229\n",
      "Accuracy: 0.8130\n",
      "Epoch 21, Loss: 0.7022\n",
      "Accuracy: 0.8166\n",
      "Epoch 22, Loss: 0.6833\n",
      "Accuracy: 0.8203\n",
      "Epoch 23, Loss: 0.6660\n",
      "Accuracy: 0.8234\n",
      "Epoch 24, Loss: 0.6501\n",
      "Accuracy: 0.8263\n",
      "Epoch 25, Loss: 0.6354\n",
      "Accuracy: 0.8295\n",
      "Epoch 26, Loss: 0.6218\n",
      "Accuracy: 0.8323\n",
      "Epoch 27, Loss: 0.6092\n",
      "Accuracy: 0.8355\n",
      "Epoch 28, Loss: 0.5974\n",
      "Accuracy: 0.8377\n",
      "Epoch 29, Loss: 0.5865\n",
      "Accuracy: 0.8401\n",
      "Epoch 30, Loss: 0.5763\n",
      "Accuracy: 0.8423\n",
      "Epoch 31, Loss: 0.5666\n",
      "Accuracy: 0.8441\n",
      "Epoch 32, Loss: 0.5576\n",
      "Accuracy: 0.8460\n",
      "Epoch 33, Loss: 0.5491\n",
      "Accuracy: 0.8480\n",
      "Epoch 34, Loss: 0.5411\n",
      "Accuracy: 0.8496\n",
      "Epoch 35, Loss: 0.5335\n",
      "Accuracy: 0.8512\n",
      "Epoch 36, Loss: 0.5263\n",
      "Accuracy: 0.8532\n",
      "Epoch 37, Loss: 0.5195\n",
      "Accuracy: 0.8548\n",
      "Epoch 38, Loss: 0.5130\n",
      "Accuracy: 0.8559\n",
      "Epoch 39, Loss: 0.5069\n",
      "Accuracy: 0.8573\n",
      "Epoch 40, Loss: 0.5010\n",
      "Accuracy: 0.8588\n",
      "Epoch 41, Loss: 0.4954\n",
      "Accuracy: 0.8601\n",
      "Epoch 42, Loss: 0.4901\n",
      "Accuracy: 0.8613\n",
      "Epoch 43, Loss: 0.4850\n",
      "Accuracy: 0.8626\n",
      "Epoch 44, Loss: 0.4801\n",
      "Accuracy: 0.8641\n",
      "Epoch 45, Loss: 0.4755\n",
      "Accuracy: 0.8650\n",
      "Epoch 46, Loss: 0.4710\n",
      "Accuracy: 0.8660\n",
      "Epoch 47, Loss: 0.4667\n",
      "Accuracy: 0.8669\n",
      "Epoch 48, Loss: 0.4626\n",
      "Accuracy: 0.8680\n",
      "Epoch 49, Loss: 0.4586\n",
      "Accuracy: 0.8691\n",
      "Epoch 50, Loss: 0.4548\n",
      "Accuracy: 0.8700\n",
      "Epoch 51, Loss: 0.4511\n",
      "Accuracy: 0.8708\n",
      "Epoch 52, Loss: 0.4476\n",
      "Accuracy: 0.8718\n",
      "Epoch 53, Loss: 0.4442\n",
      "Accuracy: 0.8725\n",
      "Epoch 54, Loss: 0.4409\n",
      "Accuracy: 0.8732\n",
      "Epoch 55, Loss: 0.4377\n",
      "Accuracy: 0.8738\n",
      "Epoch 56, Loss: 0.4346\n",
      "Accuracy: 0.8746\n",
      "Epoch 57, Loss: 0.4317\n",
      "Accuracy: 0.8754\n",
      "Epoch 58, Loss: 0.4288\n",
      "Accuracy: 0.8763\n",
      "Epoch 59, Loss: 0.4260\n",
      "Accuracy: 0.8768\n",
      "Epoch 60, Loss: 0.4234\n",
      "Accuracy: 0.8776\n",
      "Epoch 61, Loss: 0.4208\n",
      "Accuracy: 0.8781\n",
      "Epoch 62, Loss: 0.4182\n",
      "Accuracy: 0.8790\n",
      "Epoch 63, Loss: 0.4158\n",
      "Accuracy: 0.8797\n",
      "Epoch 64, Loss: 0.4134\n",
      "Accuracy: 0.8803\n",
      "Epoch 65, Loss: 0.4111\n",
      "Accuracy: 0.8809\n",
      "Epoch 66, Loss: 0.4089\n",
      "Accuracy: 0.8816\n",
      "Epoch 67, Loss: 0.4067\n",
      "Accuracy: 0.8821\n",
      "Epoch 68, Loss: 0.4046\n",
      "Accuracy: 0.8827\n",
      "Epoch 69, Loss: 0.4025\n",
      "Accuracy: 0.8833\n",
      "Epoch 70, Loss: 0.4005\n",
      "Accuracy: 0.8839\n",
      "Epoch 71, Loss: 0.3986\n",
      "Accuracy: 0.8845\n",
      "Epoch 72, Loss: 0.3967\n",
      "Accuracy: 0.8850\n",
      "Epoch 73, Loss: 0.3948\n",
      "Accuracy: 0.8854\n",
      "Epoch 74, Loss: 0.3930\n",
      "Accuracy: 0.8859\n",
      "Epoch 75, Loss: 0.3912\n",
      "Accuracy: 0.8862\n"
     ]
    }
   ],
   "source": [
    "model = Neural_Network(layer_sizes=(784, 256, 128, 64, 10), learning_rate=0.0001)\n",
    "losses = model.train_batches(x_train.T, y_train.T, epochs=75, batch_size=64)"
   ]
  },
  {
   "cell_type": "code",
   "execution_count": null,
   "metadata": {},
   "outputs": [
    {
     "data": {
      "image/png": "[encoded data removed]",
      "text/plain": [
       "<Figure size 640x480 with 1 Axes>"
      ]
     },
     "metadata": {},
     "output_type": "display_data"
    }
   ],
   "source": [
    "plt.plot(np.arange(76), losses)\n",
    "plt.xlabel('Epoch')\n",
    "plt.ylabel('Loss')\n",
    "plt.title('Network loss throughout each Epoch')\n",
    "plt.show()"
   ]
  },
  {
   "cell_type": "code",
   "execution_count": 22,
   "metadata": {},
   "outputs": [
    {
     "name": "stdout",
     "output_type": "stream",
     "text": [
      "Testing accuracy: 0.97742\n"
     ]
    }
   ],
   "source": [
    "Y_pred = model.predict(x_test.T)\n",
    "Y_pred = preprocess_data_y(Y_pred)\n",
    "print(f\"Testing accuracy: {model.accuracy(Y_pred, y_test)}\")"
   ]
  }
 ],
 "metadata": {
  "kernelspec": {
   "display_name": ".venv",
   "language": "python",
   "name": "python3"
  },
  "language_info": {
   "codemirror_mode": {
    "name": "ipython",
    "version": 3
   },
   "file_extension": ".py",
   "mimetype": "text/x-python",
   "name": "python",
   "nbconvert_exporter": "python",
   "pygments_lexer": "ipython3",
   "version": "3.11.9"
  }
 },
 "nbformat": 4,
 "nbformat_minor": 2
}
